{
 "cells": [
  {
   "cell_type": "code",
   "execution_count": 2,
   "metadata": {},
   "outputs": [],
   "source": [
    "import subprocess\n",
    "\n",
    "def run_cmd(cmd):\n",
    "    print(f\"Running:\\n{cmd}\")\n",
    "    process = subprocess.run(cmd, shell=True, capture_output=True, text=True)\n",
    "    if process.returncode != 0:\n",
    "        print(f\"❌ Error:\\n{process.stderr}\")\n",
    "    else:\n",
    "        print(f\"✅ Done:\\n{process.stdout}\")\n"
   ]
  },
  {
   "cell_type": "code",
   "execution_count": 3,
   "metadata": {},
   "outputs": [],
   "source": [
    "#for sictl ctcf_gps2_common.bed\n",
    "BED_ORIG = \"/projectnb/perissilab/Xinyu/GPS2_CHIPseq/Silencing/GPS2/results/annotation/sictl_filtered_by_GPS2_CTCF_common.bed\"\n",
    "GENOME = \"/projectnb/perissilab/Xinyu/GPS2_CHIPseq/Adapters_and_Annotations/mm39.genome\"\n",
    "OUTDIR = \"/projectnb/perissilab/Xinyu/GPS2_CHIPseq/Silencing/GPS2/results/annotation\"\n",
    "\n",
    "sizes = [100, 200, 300, 400, 500]\n",
    "for size in sizes:\n",
    "    print(f\"=== Processing {size}bp ===\")\n",
    "\n",
    "    # slop\n",
    "    slop_file = f\"{OUTDIR}/sictl_filtered_by_GPS2_CTCF_common_slop{size}bp.bed\"\n",
    "    cmd_slop = f\"bedtools slop -i {BED_ORIG} -g {GENOME} -b {size} > {slop_file}\"\n",
    "    run_cmd(cmd_slop)\n",
    "\n",
    "    # subtract\n",
    "    flank_file = f\"{OUTDIR}/sictl_filtered_by_GPS2_CTCF_common_slop{size}bpflanks_only.bed\"\n",
    "    cmd_subtract = f\"bedtools subtract -a {slop_file} -b {BED_ORIG} > {flank_file}\"\n",
    "    run_cmd(cmd_subtract)\n",
    "\n"
   ]
  },
  {
   "cell_type": "code",
   "execution_count": 1,
   "metadata": {},
   "outputs": [
    {
     "name": "stdout",
     "output_type": "stream",
     "text": [
      "=== Processing 100bp ===\n"
     ]
    },
    {
     "ename": "NameError",
     "evalue": "name 'run_cmd' is not defined",
     "output_type": "error",
     "traceback": [
      "\u001b[31m---------------------------------------------------------------------------\u001b[39m",
      "\u001b[31mNameError\u001b[39m                                 Traceback (most recent call last)",
      "\u001b[36mCell\u001b[39m\u001b[36m \u001b[39m\u001b[32mIn[1]\u001b[39m\u001b[32m, line 14\u001b[39m\n\u001b[32m     12\u001b[39m slop_file = \u001b[33mf\u001b[39m\u001b[33m\"\u001b[39m\u001b[38;5;132;01m{\u001b[39;00mOUTDIR\u001b[38;5;132;01m}\u001b[39;00m\u001b[33m/gps2_day0_filtered_by_CTCF_GPS2_d6_common_genes_slop\u001b[39m\u001b[38;5;132;01m{\u001b[39;00msize\u001b[38;5;132;01m}\u001b[39;00m\u001b[33mbp.bed\u001b[39m\u001b[33m\"\u001b[39m\n\u001b[32m     13\u001b[39m cmd_slop = \u001b[33mf\u001b[39m\u001b[33m\"\u001b[39m\u001b[33mbedtools slop -i \u001b[39m\u001b[38;5;132;01m{\u001b[39;00mBED_ORIG\u001b[38;5;132;01m}\u001b[39;00m\u001b[33m -g \u001b[39m\u001b[38;5;132;01m{\u001b[39;00mGENOME\u001b[38;5;132;01m}\u001b[39;00m\u001b[33m -b \u001b[39m\u001b[38;5;132;01m{\u001b[39;00msize\u001b[38;5;132;01m}\u001b[39;00m\u001b[33m > \u001b[39m\u001b[38;5;132;01m{\u001b[39;00mslop_file\u001b[38;5;132;01m}\u001b[39;00m\u001b[33m\"\u001b[39m\n\u001b[32m---> \u001b[39m\u001b[32m14\u001b[39m \u001b[43mrun_cmd\u001b[49m(cmd_slop)\n\u001b[32m     16\u001b[39m \u001b[38;5;66;03m# subtract\u001b[39;00m\n\u001b[32m     17\u001b[39m flank_file = \u001b[33mf\u001b[39m\u001b[33m\"\u001b[39m\u001b[38;5;132;01m{\u001b[39;00mOUTDIR\u001b[38;5;132;01m}\u001b[39;00m\u001b[33m/gps2_day0_filtered_by_CTCF_GPS2_d6_common_genes_slop\u001b[39m\u001b[38;5;132;01m{\u001b[39;00msize\u001b[38;5;132;01m}\u001b[39;00m\u001b[33mbpflanks_only.bed\u001b[39m\u001b[33m\"\u001b[39m\n",
      "\u001b[31mNameError\u001b[39m: name 'run_cmd' is not defined"
     ]
    }
   ],
   "source": [
    "# for atf4 atf4_ctcf_common.bed\n",
    "BED_ORIG = \"/projectnb/perissilab/Xinyu/GPS2_CHIPseq/ATF4_3T3L1/results/annotation/ATF4_filtered_by_ATF4_CTCF_common_genes_promoter_only.bed\"\n",
    "GENOME = \"/projectnb/perissilab/Xinyu/GPS2_CHIPseq/Adapters_and_Annotations/mm39.genome\"\n",
    "OUTDIR = \"/projectnb/perissilab/Xinyu/GPS2_CHIPseq/ATF4_3T3L1/results/annotation\"\n",
    "\n",
    "sizes = [100, 200, 300, 400, 500]\n",
    "\n",
    "for size in sizes:\n",
    "    print(f\"=== Processing {size}bp ===\")\n",
    "\n",
    "    # slop\n",
    "    slop_file = f\"{OUTDIR}/ATF4_filtered_by_ATF4_CTCF_common_slop{size}bp.bed\"\n",
    "    cmd_slop = f\"bedtools slop -i {BED_ORIG} -g {GENOME} -b {size} > {slop_file}\"\n",
    "    run_cmd(cmd_slop)\n",
    "\n",
    "    # subtract\n",
    "    flank_file = f\"{OUTDIR}/ATF4_filtered_by_ATF4_CTCF_common_slop{size}bpflanks_only.bed\"\n",
    "    cmd_subtract = f\"bedtools subtract -a {slop_file} -b {BED_ORIG} > {flank_file}\"\n",
    "    run_cmd(cmd_subtract)\n"
   ]
  },
  {
   "cell_type": "code",
   "execution_count": 4,
   "metadata": {},
   "outputs": [
    {
     "name": "stdout",
     "output_type": "stream",
     "text": [
      "=== Processing 100bp ===\n",
      "Running:\n",
      "bedtools slop -i /projectnb/perissilab/Xinyu/GPS2_CHIPseq/Adipocyte_differentiation/GPS2/results/annotation/gps2_day0_filtered_by_CTCF_GPS2_d6_common_genes_promoter_only.bed -g /projectnb/perissilab/Xinyu/GPS2_CHIPseq/Adapters_and_Annotations/mm39.genome -b 100 > /projectnb/perissilab/Xinyu/GPS2_CHIPseq/Adipocyte_differentiation/GPS2/results/annotation/gps2_day0_filtered_by_CTCF_GPS2_d6_common_genes_slop100bp.bed\n",
      "✅ Done:\n",
      "\n",
      "Running:\n",
      "bedtools subtract -a /projectnb/perissilab/Xinyu/GPS2_CHIPseq/Adipocyte_differentiation/GPS2/results/annotation/gps2_day0_filtered_by_CTCF_GPS2_d6_common_genes_slop100bp.bed -b /projectnb/perissilab/Xinyu/GPS2_CHIPseq/Adipocyte_differentiation/GPS2/results/annotation/gps2_day0_filtered_by_CTCF_GPS2_d6_common_genes_promoter_only.bed > /projectnb/perissilab/Xinyu/GPS2_CHIPseq/Adipocyte_differentiation/GPS2/results/annotation/gps2_day0_filtered_by_CTCF_GPS2_d6_common_genes_slop100bpflanks_only.bed\n",
      "✅ Done:\n",
      "\n",
      "=== Processing 200bp ===\n",
      "Running:\n",
      "bedtools slop -i /projectnb/perissilab/Xinyu/GPS2_CHIPseq/Adipocyte_differentiation/GPS2/results/annotation/gps2_day0_filtered_by_CTCF_GPS2_d6_common_genes_promoter_only.bed -g /projectnb/perissilab/Xinyu/GPS2_CHIPseq/Adapters_and_Annotations/mm39.genome -b 200 > /projectnb/perissilab/Xinyu/GPS2_CHIPseq/Adipocyte_differentiation/GPS2/results/annotation/gps2_day0_filtered_by_CTCF_GPS2_d6_common_genes_slop200bp.bed\n",
      "✅ Done:\n",
      "\n",
      "Running:\n",
      "bedtools subtract -a /projectnb/perissilab/Xinyu/GPS2_CHIPseq/Adipocyte_differentiation/GPS2/results/annotation/gps2_day0_filtered_by_CTCF_GPS2_d6_common_genes_slop200bp.bed -b /projectnb/perissilab/Xinyu/GPS2_CHIPseq/Adipocyte_differentiation/GPS2/results/annotation/gps2_day0_filtered_by_CTCF_GPS2_d6_common_genes_promoter_only.bed > /projectnb/perissilab/Xinyu/GPS2_CHIPseq/Adipocyte_differentiation/GPS2/results/annotation/gps2_day0_filtered_by_CTCF_GPS2_d6_common_genes_slop200bpflanks_only.bed\n",
      "✅ Done:\n",
      "\n",
      "=== Processing 300bp ===\n",
      "Running:\n",
      "bedtools slop -i /projectnb/perissilab/Xinyu/GPS2_CHIPseq/Adipocyte_differentiation/GPS2/results/annotation/gps2_day0_filtered_by_CTCF_GPS2_d6_common_genes_promoter_only.bed -g /projectnb/perissilab/Xinyu/GPS2_CHIPseq/Adapters_and_Annotations/mm39.genome -b 300 > /projectnb/perissilab/Xinyu/GPS2_CHIPseq/Adipocyte_differentiation/GPS2/results/annotation/gps2_day0_filtered_by_CTCF_GPS2_d6_common_genes_slop300bp.bed\n",
      "✅ Done:\n",
      "\n",
      "Running:\n",
      "bedtools subtract -a /projectnb/perissilab/Xinyu/GPS2_CHIPseq/Adipocyte_differentiation/GPS2/results/annotation/gps2_day0_filtered_by_CTCF_GPS2_d6_common_genes_slop300bp.bed -b /projectnb/perissilab/Xinyu/GPS2_CHIPseq/Adipocyte_differentiation/GPS2/results/annotation/gps2_day0_filtered_by_CTCF_GPS2_d6_common_genes_promoter_only.bed > /projectnb/perissilab/Xinyu/GPS2_CHIPseq/Adipocyte_differentiation/GPS2/results/annotation/gps2_day0_filtered_by_CTCF_GPS2_d6_common_genes_slop300bpflanks_only.bed\n",
      "✅ Done:\n",
      "\n",
      "=== Processing 400bp ===\n",
      "Running:\n",
      "bedtools slop -i /projectnb/perissilab/Xinyu/GPS2_CHIPseq/Adipocyte_differentiation/GPS2/results/annotation/gps2_day0_filtered_by_CTCF_GPS2_d6_common_genes_promoter_only.bed -g /projectnb/perissilab/Xinyu/GPS2_CHIPseq/Adapters_and_Annotations/mm39.genome -b 400 > /projectnb/perissilab/Xinyu/GPS2_CHIPseq/Adipocyte_differentiation/GPS2/results/annotation/gps2_day0_filtered_by_CTCF_GPS2_d6_common_genes_slop400bp.bed\n",
      "✅ Done:\n",
      "\n",
      "Running:\n",
      "bedtools subtract -a /projectnb/perissilab/Xinyu/GPS2_CHIPseq/Adipocyte_differentiation/GPS2/results/annotation/gps2_day0_filtered_by_CTCF_GPS2_d6_common_genes_slop400bp.bed -b /projectnb/perissilab/Xinyu/GPS2_CHIPseq/Adipocyte_differentiation/GPS2/results/annotation/gps2_day0_filtered_by_CTCF_GPS2_d6_common_genes_promoter_only.bed > /projectnb/perissilab/Xinyu/GPS2_CHIPseq/Adipocyte_differentiation/GPS2/results/annotation/gps2_day0_filtered_by_CTCF_GPS2_d6_common_genes_slop400bpflanks_only.bed\n",
      "✅ Done:\n",
      "\n",
      "=== Processing 500bp ===\n",
      "Running:\n",
      "bedtools slop -i /projectnb/perissilab/Xinyu/GPS2_CHIPseq/Adipocyte_differentiation/GPS2/results/annotation/gps2_day0_filtered_by_CTCF_GPS2_d6_common_genes_promoter_only.bed -g /projectnb/perissilab/Xinyu/GPS2_CHIPseq/Adapters_and_Annotations/mm39.genome -b 500 > /projectnb/perissilab/Xinyu/GPS2_CHIPseq/Adipocyte_differentiation/GPS2/results/annotation/gps2_day0_filtered_by_CTCF_GPS2_d6_common_genes_slop500bp.bed\n",
      "✅ Done:\n",
      "\n",
      "Running:\n",
      "bedtools subtract -a /projectnb/perissilab/Xinyu/GPS2_CHIPseq/Adipocyte_differentiation/GPS2/results/annotation/gps2_day0_filtered_by_CTCF_GPS2_d6_common_genes_slop500bp.bed -b /projectnb/perissilab/Xinyu/GPS2_CHIPseq/Adipocyte_differentiation/GPS2/results/annotation/gps2_day0_filtered_by_CTCF_GPS2_d6_common_genes_promoter_only.bed > /projectnb/perissilab/Xinyu/GPS2_CHIPseq/Adipocyte_differentiation/GPS2/results/annotation/gps2_day0_filtered_by_CTCF_GPS2_d6_common_genes_slop500bpflanks_only.bed\n",
      "✅ Done:\n",
      "\n"
     ]
    }
   ],
   "source": [
    "# for GPS2 d6 gps2d6_ctcf_common.bed\n",
    "BED_ORIG = \"/projectnb/perissilab/Xinyu/GPS2_CHIPseq/Adipocyte_differentiation/GPS2/results/annotation/gps2_day0_filtered_by_CTCF_GPS2_d6_common_genes_promoter_only.bed\"\n",
    "GENOME = \"/projectnb/perissilab/Xinyu/GPS2_CHIPseq/Adapters_and_Annotations/mm39.genome\"\n",
    "OUTDIR = \"/projectnb/perissilab/Xinyu/GPS2_CHIPseq/Adipocyte_differentiation/GPS2/results/annotation\"\n",
    "\n",
    "sizes = [100, 200, 300, 400, 500]\n",
    "\n",
    "for size in sizes:\n",
    "    print(f\"=== Processing {size}bp ===\")\n",
    "\n",
    "    # slop\n",
    "    slop_file = f\"{OUTDIR}/gps2_day0_filtered_by_CTCF_GPS2_d6_common_genes_slop{size}bp.bed\"\n",
    "    cmd_slop = f\"bedtools slop -i {BED_ORIG} -g {GENOME} -b {size} > {slop_file}\"\n",
    "    run_cmd(cmd_slop)\n",
    "\n",
    "    # subtract\n",
    "    flank_file = f\"{OUTDIR}/gps2_day0_filtered_by_CTCF_GPS2_d6_common_genes_slop{size}bpflanks_only.bed\"\n",
    "    cmd_subtract = f\"bedtools subtract -a {slop_file} -b {BED_ORIG} > {flank_file}\"\n",
    "    run_cmd(cmd_subtract)\n"
   ]
  },
  {
   "cell_type": "code",
   "execution_count": 3,
   "metadata": {},
   "outputs": [
    {
     "name": "stdout",
     "output_type": "stream",
     "text": [
      "=== Processing 100bp ===\n",
      "Running:\n",
      "bedtools slop -i /projectnb/perissilab/Xinyu/GPS2_CHIPseq/Silencing/GPS2/results/annotation/sictl_filtered_by_GPS2_CTCF_common.bed -g /projectnb/perissilab/Xinyu/GPS2_CHIPseq/Adapters_and_Annotations/mm39.genome -b 100 > /projectnb/perissilab/Xinyu/GPS2_CHIPseq/Silencing/GPS2/results/annotation/sictl_filtered_by_GPS2_CTCF_common_slop100bp.bed\n",
      "✅ Done:\n",
      "\n",
      "Running:\n",
      "bedtools subtract -a /projectnb/perissilab/Xinyu/GPS2_CHIPseq/Silencing/GPS2/results/annotation/sictl_filtered_by_GPS2_CTCF_common_slop100bp.bed -b /projectnb/perissilab/Xinyu/GPS2_CHIPseq/Silencing/GPS2/results/annotation/sictl_filtered_by_GPS2_CTCF_common.bed > /projectnb/perissilab/Xinyu/GPS2_CHIPseq/Silencing/GPS2/results/annotation/sictl_filtered_by_GPS2_CTCF_common_slop100bpflanks_only.bed\n",
      "✅ Done:\n",
      "\n",
      "=== Processing 200bp ===\n",
      "Running:\n",
      "bedtools slop -i /projectnb/perissilab/Xinyu/GPS2_CHIPseq/Silencing/GPS2/results/annotation/sictl_filtered_by_GPS2_CTCF_common.bed -g /projectnb/perissilab/Xinyu/GPS2_CHIPseq/Adapters_and_Annotations/mm39.genome -b 200 > /projectnb/perissilab/Xinyu/GPS2_CHIPseq/Silencing/GPS2/results/annotation/sictl_filtered_by_GPS2_CTCF_common_slop200bp.bed\n",
      "✅ Done:\n",
      "\n",
      "Running:\n",
      "bedtools subtract -a /projectnb/perissilab/Xinyu/GPS2_CHIPseq/Silencing/GPS2/results/annotation/sictl_filtered_by_GPS2_CTCF_common_slop200bp.bed -b /projectnb/perissilab/Xinyu/GPS2_CHIPseq/Silencing/GPS2/results/annotation/sictl_filtered_by_GPS2_CTCF_common.bed > /projectnb/perissilab/Xinyu/GPS2_CHIPseq/Silencing/GPS2/results/annotation/sictl_filtered_by_GPS2_CTCF_common_slop200bpflanks_only.bed\n",
      "✅ Done:\n",
      "\n",
      "=== Processing 300bp ===\n",
      "Running:\n",
      "bedtools slop -i /projectnb/perissilab/Xinyu/GPS2_CHIPseq/Silencing/GPS2/results/annotation/sictl_filtered_by_GPS2_CTCF_common.bed -g /projectnb/perissilab/Xinyu/GPS2_CHIPseq/Adapters_and_Annotations/mm39.genome -b 300 > /projectnb/perissilab/Xinyu/GPS2_CHIPseq/Silencing/GPS2/results/annotation/sictl_filtered_by_GPS2_CTCF_common_slop300bp.bed\n",
      "✅ Done:\n",
      "\n",
      "Running:\n",
      "bedtools subtract -a /projectnb/perissilab/Xinyu/GPS2_CHIPseq/Silencing/GPS2/results/annotation/sictl_filtered_by_GPS2_CTCF_common_slop300bp.bed -b /projectnb/perissilab/Xinyu/GPS2_CHIPseq/Silencing/GPS2/results/annotation/sictl_filtered_by_GPS2_CTCF_common.bed > /projectnb/perissilab/Xinyu/GPS2_CHIPseq/Silencing/GPS2/results/annotation/sictl_filtered_by_GPS2_CTCF_common_slop300bpflanks_only.bed\n",
      "✅ Done:\n",
      "\n",
      "=== Processing 400bp ===\n",
      "Running:\n",
      "bedtools slop -i /projectnb/perissilab/Xinyu/GPS2_CHIPseq/Silencing/GPS2/results/annotation/sictl_filtered_by_GPS2_CTCF_common.bed -g /projectnb/perissilab/Xinyu/GPS2_CHIPseq/Adapters_and_Annotations/mm39.genome -b 400 > /projectnb/perissilab/Xinyu/GPS2_CHIPseq/Silencing/GPS2/results/annotation/sictl_filtered_by_GPS2_CTCF_common_slop400bp.bed\n",
      "✅ Done:\n",
      "\n",
      "Running:\n",
      "bedtools subtract -a /projectnb/perissilab/Xinyu/GPS2_CHIPseq/Silencing/GPS2/results/annotation/sictl_filtered_by_GPS2_CTCF_common_slop400bp.bed -b /projectnb/perissilab/Xinyu/GPS2_CHIPseq/Silencing/GPS2/results/annotation/sictl_filtered_by_GPS2_CTCF_common.bed > /projectnb/perissilab/Xinyu/GPS2_CHIPseq/Silencing/GPS2/results/annotation/sictl_filtered_by_GPS2_CTCF_common_slop400bpflanks_only.bed\n",
      "✅ Done:\n",
      "\n",
      "=== Processing 500bp ===\n",
      "Running:\n",
      "bedtools slop -i /projectnb/perissilab/Xinyu/GPS2_CHIPseq/Silencing/GPS2/results/annotation/sictl_filtered_by_GPS2_CTCF_common.bed -g /projectnb/perissilab/Xinyu/GPS2_CHIPseq/Adapters_and_Annotations/mm39.genome -b 500 > /projectnb/perissilab/Xinyu/GPS2_CHIPseq/Silencing/GPS2/results/annotation/sictl_filtered_by_GPS2_CTCF_common_slop500bp.bed\n",
      "✅ Done:\n",
      "\n",
      "Running:\n",
      "bedtools subtract -a /projectnb/perissilab/Xinyu/GPS2_CHIPseq/Silencing/GPS2/results/annotation/sictl_filtered_by_GPS2_CTCF_common_slop500bp.bed -b /projectnb/perissilab/Xinyu/GPS2_CHIPseq/Silencing/GPS2/results/annotation/sictl_filtered_by_GPS2_CTCF_common.bed > /projectnb/perissilab/Xinyu/GPS2_CHIPseq/Silencing/GPS2/results/annotation/sictl_filtered_by_GPS2_CTCF_common_slop500bpflanks_only.bed\n",
      "✅ Done:\n",
      "\n",
      "🎉 All finished!\n"
     ]
    }
   ],
   "source": []
  }
 ],
 "metadata": {
  "kernelspec": {
   "display_name": "chip_seq",
   "language": "python",
   "name": "python3"
  },
  "language_info": {
   "codemirror_mode": {
    "name": "ipython",
    "version": 3
   },
   "file_extension": ".py",
   "mimetype": "text/x-python",
   "name": "python",
   "nbconvert_exporter": "python",
   "pygments_lexer": "ipython3",
   "version": "3.12.11"
  }
 },
 "nbformat": 4,
 "nbformat_minor": 2
}
