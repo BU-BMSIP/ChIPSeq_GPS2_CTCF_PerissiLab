{
 "cells": [
  {
   "cell_type": "code",
   "execution_count": 1,
   "metadata": {},
   "outputs": [
    {
     "name": "stdout",
     "output_type": "stream",
     "text": [
      "chr1\t4927624\t4928440\n",
      "chr1\t4973934\t4974106\n",
      "chr1\t5089468\t5089909\n",
      "chr1\t6318959\t6319070\n",
      "chr1\t7468450\t7468691\n",
      "chr1\t7729272\t7729383\n",
      "chr1\t9770340\t9770672\n",
      "chr1\t9770753\t9771174\n",
      "chr1\t9868126\t9868602\n",
      "chr1\t9928990\t9929104\n",
      "chr1\t195154279\n",
      "chr2\t181755017\n",
      "chr3\t159745316\n",
      "chr4\t156860686\n",
      "chr5\t151758149\n",
      "chr6\t149588044\n",
      "chr7\t144995196\n",
      "chr8\t130127694\n",
      "chr9\t124359700\n",
      "chr10\t130530862\n"
     ]
    }
   ],
   "source": [
    "# ---\n",
    "# title: Extend GPS2-CTCF common peaks by 500bp using bedtools slop\n",
    "# description: This notebook expands peaks by 500bp on both sides for further analysis.\n",
    "# ---\n",
    "\n",
    "# ## Step 1: Check input BED file\n",
    "!head /projectnb/perissilab/Xinyu/GPS2_CHIPseq/Silencing/GPS2/results/annotation/sictl_filtered_by_GPS2_CTCF_common.bed\n",
    "\n",
    "# ## Step 2: Check genome file\n",
    "# Make sure you have a mm39.genome file that looks like:\n",
    "# chr1    195465000\n",
    "# chr2    182105000\n",
    "# ...\n",
    "!head /projectnb/perissilab/Xinyu/GPS2_CHIPseq/Adapters_and_Annotations/mm39.genome\n"
   ]
  },
  {
   "cell_type": "code",
   "execution_count": 4,
   "metadata": {},
   "outputs": [
    {
     "name": "stdout",
     "output_type": "stream",
     "text": [
      "Done extending peaks by 500bp on each side.\n"
     ]
    }
   ],
   "source": [
    "# ## Step 3: Extend peaks by 500bp on both sides\n",
    "!bedtools slop \\\n",
    " -i /projectnb/perissilab/Xinyu/GPS2_CHIPseq/Silencing/GPS2/results/annotation/sictl_filtered_by_GPS2_CTCF_common.bed\\\n",
    " -g /projectnb/perissilab/Xinyu/GPS2_CHIPseq/Adapters_and_Annotations/mm39.genome \\\n",
    " -b 500 \\\n",
    " > /projectnb/perissilab/Xinyu/GPS2_CHIPseq/Silencing/GPS2/results/annotation/sictl_filtered_by_GPS2_CTCF_common_slop500bp.bed\n",
    "\n",
    "print(\"Done extending peaks by 500bp on each side.\")\n"
   ]
  },
  {
   "cell_type": "code",
   "execution_count": 6,
   "metadata": {},
   "outputs": [
    {
     "name": "stdout",
     "output_type": "stream",
     "text": [
      "chr1\t4927124\t4928940\n",
      "chr1\t4973434\t4974606\n",
      "chr1\t5088968\t5090409\n",
      "chr1\t6318459\t6319570\n",
      "chr1\t7467950\t7469191\n",
      "chr1\t7728772\t7729883\n",
      "chr1\t9769840\t9771172\n",
      "chr1\t9770253\t9771674\n",
      "chr1\t9867626\t9869102\n",
      "chr1\t9928490\t9929604\n",
      "16322 /projectnb/perissilab/Xinyu/GPS2_CHIPseq/Silencing/GPS2/results/annotation/sictl_filtered_by_GPS2_CTCF_common_slop500bp.bed\n"
     ]
    }
   ],
   "source": [
    "# ## Step 4: Quick check on resulting BED file\n",
    "!head /projectnb/perissilab/Xinyu/GPS2_CHIPseq/Silencing/GPS2/results/annotation/sictl_filtered_by_GPS2_CTCF_common_slop500bp.bed\n",
    "\n",
    "# Optionally count number of lines\n",
    "!wc -l /projectnb/perissilab/Xinyu/GPS2_CHIPseq/Silencing/GPS2/results/annotation/sictl_filtered_by_GPS2_CTCF_common_slop500bp.bed\n"
   ]
  },
  {
   "cell_type": "markdown",
   "metadata": {},
   "source": [
    "# 假设你有 original.bed 和 mm39.genome\n",
    "# 这里用扩展 200bp 为例\n",
    "\n",
    "echo \"Step 1: Extending peaks by 200bp on both sides\"\n",
    "bedtools slop -i original.bed -g mm39.genome -b 200 > extended.bed\n",
    "\n",
    "echo \"Step 2: Subtracting original peaks to keep only flanks\"\n",
    "bedtools subtract -a extended.bed -b original.bed > flanks_only.bed\n",
    "\n",
    "echo \"Done! Created flanks_only.bed containing only left and right extended regions.\""
   ]
  },
  {
   "cell_type": "code",
   "execution_count": 17,
   "metadata": {},
   "outputs": [],
   "source": [
    "!bedtools slop \\\n",
    " -i /projectnb/perissilab/Xinyu/GPS2_CHIPseq/Silencing/GPS2/results/annotation/sictl_filtered_by_GPS2_CTCF_common.bed\\\n",
    " -g /projectnb/perissilab/Xinyu/GPS2_CHIPseq/Adapters_and_Annotations/mm39.genome \\\n",
    " -b 300 \\\n",
    " > /projectnb/perissilab/Xinyu/GPS2_CHIPseq/Silencing/GPS2/results/annotation/sictl_filtered_by_GPS2_CTCF_common_slop300bp.bed"
   ]
  },
  {
   "cell_type": "code",
   "execution_count": 18,
   "metadata": {},
   "outputs": [],
   "source": [
    "!bedtools subtract\\\n",
    " -a /projectnb/perissilab/Xinyu/GPS2_CHIPseq/Silencing/GPS2/results/annotation/sictl_filtered_by_GPS2_CTCF_common_slop300bp.bed\\\n",
    " -b /projectnb/perissilab/Xinyu/GPS2_CHIPseq/Silencing/GPS2/results/annotation/sictl_filtered_by_GPS2_CTCF_common.bed\\\n",
    " > /projectnb/perissilab/Xinyu/GPS2_CHIPseq/Silencing/GPS2/results/annotation/sictl_filtered_by_GPS2_CTCF_common_slop300bpflanks_only.bed\n"
   ]
  }
 ],
 "metadata": {
  "kernelspec": {
   "display_name": "chip_seq",
   "language": "python",
   "name": "python3"
  },
  "language_info": {
   "codemirror_mode": {
    "name": "ipython",
    "version": 3
   },
   "file_extension": ".py",
   "mimetype": "text/x-python",
   "name": "python",
   "nbconvert_exporter": "python",
   "pygments_lexer": "ipython3",
   "version": "3.12.11"
  }
 },
 "nbformat": 4,
 "nbformat_minor": 2
}
