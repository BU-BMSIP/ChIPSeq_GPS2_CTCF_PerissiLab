{
 "cells": [
  {
   "cell_type": "code",
   "execution_count": 1,
   "metadata": {},
   "outputs": [],
   "source": [
    "import subprocess\n",
    "\n",
    "def run_cmd(cmd):\n",
    "    print(f\"Running:\\n{cmd}\")\n",
    "    process = subprocess.run(cmd, shell=True, capture_output=True, text=True)\n",
    "    if process.returncode != 0:\n",
    "        print(f\"❌ Error:\\n{process.stderr}\")\n",
    "    else:\n",
    "        print(f\"✅ Done:\\n{process.stdout}\")\n"
   ]
  },
  {
   "cell_type": "code",
   "execution_count": 2,
   "metadata": {},
   "outputs": [],
   "source": [
    "\n",
    "BED_ORIG = \"/projectnb/perissilab/Xinyu/GPS2_CHIPseq/Silencing/GPS2/results/annotation/sictl_filtered_by_GPS2_CTCF_common.bed\"\n",
    "GENOME = \"/projectnb/perissilab/Xinyu/GPS2_CHIPseq/Adapters_and_Annotations/mm39.genome\"\n",
    "OUTDIR = \"/projectnb/perissilab/Xinyu/GPS2_CHIPseq/Silencing/GPS2/results/annotation\"\n",
    "\n",
    "sizes = [100, 200, 300, 400, 500]\n"
   ]
  },
  {
   "cell_type": "code",
   "execution_count": 3,
   "metadata": {},
   "outputs": [
    {
     "name": "stdout",
     "output_type": "stream",
     "text": [
      "=== Processing 100bp ===\n",
      "Running:\n",
      "bedtools slop -i /projectnb/perissilab/Xinyu/GPS2_CHIPseq/Silencing/GPS2/results/annotation/sictl_filtered_by_GPS2_CTCF_common.bed -g /projectnb/perissilab/Xinyu/GPS2_CHIPseq/Adapters_and_Annotations/mm39.genome -b 100 > /projectnb/perissilab/Xinyu/GPS2_CHIPseq/Silencing/GPS2/results/annotation/sictl_filtered_by_GPS2_CTCF_common_slop100bp.bed\n",
      "✅ Done:\n",
      "\n",
      "Running:\n",
      "bedtools subtract -a /projectnb/perissilab/Xinyu/GPS2_CHIPseq/Silencing/GPS2/results/annotation/sictl_filtered_by_GPS2_CTCF_common_slop100bp.bed -b /projectnb/perissilab/Xinyu/GPS2_CHIPseq/Silencing/GPS2/results/annotation/sictl_filtered_by_GPS2_CTCF_common.bed > /projectnb/perissilab/Xinyu/GPS2_CHIPseq/Silencing/GPS2/results/annotation/sictl_filtered_by_GPS2_CTCF_common_slop100bpflanks_only.bed\n",
      "✅ Done:\n",
      "\n",
      "=== Processing 200bp ===\n",
      "Running:\n",
      "bedtools slop -i /projectnb/perissilab/Xinyu/GPS2_CHIPseq/Silencing/GPS2/results/annotation/sictl_filtered_by_GPS2_CTCF_common.bed -g /projectnb/perissilab/Xinyu/GPS2_CHIPseq/Adapters_and_Annotations/mm39.genome -b 200 > /projectnb/perissilab/Xinyu/GPS2_CHIPseq/Silencing/GPS2/results/annotation/sictl_filtered_by_GPS2_CTCF_common_slop200bp.bed\n",
      "✅ Done:\n",
      "\n",
      "Running:\n",
      "bedtools subtract -a /projectnb/perissilab/Xinyu/GPS2_CHIPseq/Silencing/GPS2/results/annotation/sictl_filtered_by_GPS2_CTCF_common_slop200bp.bed -b /projectnb/perissilab/Xinyu/GPS2_CHIPseq/Silencing/GPS2/results/annotation/sictl_filtered_by_GPS2_CTCF_common.bed > /projectnb/perissilab/Xinyu/GPS2_CHIPseq/Silencing/GPS2/results/annotation/sictl_filtered_by_GPS2_CTCF_common_slop200bpflanks_only.bed\n",
      "✅ Done:\n",
      "\n",
      "=== Processing 300bp ===\n",
      "Running:\n",
      "bedtools slop -i /projectnb/perissilab/Xinyu/GPS2_CHIPseq/Silencing/GPS2/results/annotation/sictl_filtered_by_GPS2_CTCF_common.bed -g /projectnb/perissilab/Xinyu/GPS2_CHIPseq/Adapters_and_Annotations/mm39.genome -b 300 > /projectnb/perissilab/Xinyu/GPS2_CHIPseq/Silencing/GPS2/results/annotation/sictl_filtered_by_GPS2_CTCF_common_slop300bp.bed\n",
      "✅ Done:\n",
      "\n",
      "Running:\n",
      "bedtools subtract -a /projectnb/perissilab/Xinyu/GPS2_CHIPseq/Silencing/GPS2/results/annotation/sictl_filtered_by_GPS2_CTCF_common_slop300bp.bed -b /projectnb/perissilab/Xinyu/GPS2_CHIPseq/Silencing/GPS2/results/annotation/sictl_filtered_by_GPS2_CTCF_common.bed > /projectnb/perissilab/Xinyu/GPS2_CHIPseq/Silencing/GPS2/results/annotation/sictl_filtered_by_GPS2_CTCF_common_slop300bpflanks_only.bed\n",
      "✅ Done:\n",
      "\n",
      "=== Processing 400bp ===\n",
      "Running:\n",
      "bedtools slop -i /projectnb/perissilab/Xinyu/GPS2_CHIPseq/Silencing/GPS2/results/annotation/sictl_filtered_by_GPS2_CTCF_common.bed -g /projectnb/perissilab/Xinyu/GPS2_CHIPseq/Adapters_and_Annotations/mm39.genome -b 400 > /projectnb/perissilab/Xinyu/GPS2_CHIPseq/Silencing/GPS2/results/annotation/sictl_filtered_by_GPS2_CTCF_common_slop400bp.bed\n",
      "✅ Done:\n",
      "\n",
      "Running:\n",
      "bedtools subtract -a /projectnb/perissilab/Xinyu/GPS2_CHIPseq/Silencing/GPS2/results/annotation/sictl_filtered_by_GPS2_CTCF_common_slop400bp.bed -b /projectnb/perissilab/Xinyu/GPS2_CHIPseq/Silencing/GPS2/results/annotation/sictl_filtered_by_GPS2_CTCF_common.bed > /projectnb/perissilab/Xinyu/GPS2_CHIPseq/Silencing/GPS2/results/annotation/sictl_filtered_by_GPS2_CTCF_common_slop400bpflanks_only.bed\n",
      "✅ Done:\n",
      "\n",
      "=== Processing 500bp ===\n",
      "Running:\n",
      "bedtools slop -i /projectnb/perissilab/Xinyu/GPS2_CHIPseq/Silencing/GPS2/results/annotation/sictl_filtered_by_GPS2_CTCF_common.bed -g /projectnb/perissilab/Xinyu/GPS2_CHIPseq/Adapters_and_Annotations/mm39.genome -b 500 > /projectnb/perissilab/Xinyu/GPS2_CHIPseq/Silencing/GPS2/results/annotation/sictl_filtered_by_GPS2_CTCF_common_slop500bp.bed\n",
      "✅ Done:\n",
      "\n",
      "Running:\n",
      "bedtools subtract -a /projectnb/perissilab/Xinyu/GPS2_CHIPseq/Silencing/GPS2/results/annotation/sictl_filtered_by_GPS2_CTCF_common_slop500bp.bed -b /projectnb/perissilab/Xinyu/GPS2_CHIPseq/Silencing/GPS2/results/annotation/sictl_filtered_by_GPS2_CTCF_common.bed > /projectnb/perissilab/Xinyu/GPS2_CHIPseq/Silencing/GPS2/results/annotation/sictl_filtered_by_GPS2_CTCF_common_slop500bpflanks_only.bed\n",
      "✅ Done:\n",
      "\n",
      "🎉 All finished!\n"
     ]
    }
   ],
   "source": [
    "for size in sizes:\n",
    "    print(f\"=== Processing {size}bp ===\")\n",
    "\n",
    "    # slop\n",
    "    slop_file = f\"{OUTDIR}/sictl_filtered_by_GPS2_CTCF_common_slop{size}bp.bed\"\n",
    "    cmd_slop = f\"bedtools slop -i {BED_ORIG} -g {GENOME} -b {size} > {slop_file}\"\n",
    "    run_cmd(cmd_slop)\n",
    "\n",
    "    # subtract\n",
    "    flank_file = f\"{OUTDIR}/sictl_filtered_by_GPS2_CTCF_common_slop{size}bpflanks_only.bed\"\n",
    "    cmd_subtract = f\"bedtools subtract -a {slop_file} -b {BED_ORIG} > {flank_file}\"\n",
    "    run_cmd(cmd_subtract)\n",
    "\n"
   ]
  }
 ],
 "metadata": {
  "kernelspec": {
   "display_name": "chip_seq",
   "language": "python",
   "name": "python3"
  },
  "language_info": {
   "codemirror_mode": {
    "name": "ipython",
    "version": 3
   },
   "file_extension": ".py",
   "mimetype": "text/x-python",
   "name": "python",
   "nbconvert_exporter": "python",
   "pygments_lexer": "ipython3",
   "version": "3.12.11"
  }
 },
 "nbformat": 4,
 "nbformat_minor": 2
}
