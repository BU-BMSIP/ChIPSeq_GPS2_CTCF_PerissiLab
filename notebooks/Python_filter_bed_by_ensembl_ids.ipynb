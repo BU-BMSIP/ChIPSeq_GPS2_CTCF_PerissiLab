{
 "cells": [
  {
   "cell_type": "markdown",
   "metadata": {},
   "source": [
    "# Filter BED Entries by Ensembl IDs via MyGeneInfo\n",
    "\n",
    "This notebook:\n",
    "1. Reads a list of gene symbols.\n",
    "2. Uses MyGeneInfo to map symbols to Ensembl gene IDs (mouse).\n",
    "3. Loads a genome‐wide BED file annotated with Ensembl IDs.\n",
    "4. Filters the BED to only those entries whose `gene_id` matches the mapped IDs.\n",
    "5. Writes out the filtered BED.\n"
   ]
  },
  {
   "cell_type": "code",
   "execution_count": 1,
   "metadata": {},
   "outputs": [
    {
     "name": "stderr",
     "output_type": "stream",
     "text": [
      "Input sequence provided is already in string format. No operation performed\n",
      "Input sequence provided is already in string format. No operation performed\n",
      "153 input query terms found dup hits:\t[('Gm26901', 2), ('Gm33222', 2), ('Gm6644', 2), ('Gm29083', 2), ('2900060B14Rik', 2), ('2610027F03Ri\n",
      "14 input query terms found no hit:\t['Bves', 'Fut11', 'LOC118567337', '2310039H08Rik', 'LOC102631992', 'Gm50217', 'Tmem88b', 'Sagsin1', \n"
     ]
    },
    {
     "name": "stdout",
     "output_type": "stream",
     "text": [
      "✅ Done! Filtered BED written to: /projectnb/perissilab/Xinyu/GPS2_CHIPseq/CTCF_3T3L1/results/annotation/GPS2_CTCF_common_genes_filtered.bed\n"
     ]
    }
   ],
   "source": [
    "#!/usr/bin/env python3\n",
    "# ─── Cell 1: Imports ───────────────────────────────────────────────────────\n",
    "# - mygene: query gene annotation service\n",
    "# - pandas: data manipulation for gene lists and BED tables\n",
    "from mygene import MyGeneInfo\n",
    "import pandas as pd\n",
    "\n",
    "\n",
    "# ─── Cell 2: Configuration ─────────────────────────────────────────────────\n",
    "# Path to the text file containing one gene symbol per line\n",
    "GENELIST_FILE = \"/projectnb/perissilab/Xinyu/GPS2_CHIPseq/CTCF_3T3L1/results/annotation/GPS2_CTCF_common_genes.txt\"\n",
    "\n",
    "# Path to the genome-wide BED annotated with Ensembl gene IDs in column 4\n",
    "BED_FILE      = \"/projectnb/perissilab/Xinyu/GPS2_CHIPseq/mm39_ensembl.bed\"\n",
    "\n",
    "# Desired output path for the filtered BED\n",
    "OUTPUT_FILE   = \"/projectnb/perissilab/Xinyu/GPS2_CHIPseq/CTCF_3T3L1/results/annotation/GPS2_CTCF_common_genes_filtered.bed\"\n",
    "\n",
    "\n",
    "# ─── Cell 3: Load Gene Symbols & Map to Ensembl IDs ────────────────────────\n",
    "# 1) Read symbols into a list\n",
    "genes = pd.read_csv(GENELIST_FILE, header=None)[0].tolist()\n",
    "\n",
    "# 2) Query MyGeneInfo for each symbol, retrieving 'ensembl.gene'\n",
    "mg      = MyGeneInfo()\n",
    "results = mg.querymany(\n",
    "    genes,\n",
    "    scopes='symbol',\n",
    "    fields='ensembl.gene',\n",
    "    species='mouse'\n",
    ")\n",
    "\n",
    "# 3) Build DataFrame and keep only successful mappings\n",
    "df = pd.DataFrame(results)\n",
    "df = df[df['notfound'] != True][['query','ensembl']]\n",
    "\n",
    "# Helper to extract the actual Ensembl gene ID\n",
    "def extract_ensembl(x):\n",
    "    if isinstance(x, dict):\n",
    "        return x.get('gene')\n",
    "    elif isinstance(x, list):\n",
    "        return x[0].get('gene')\n",
    "    return None\n",
    "\n",
    "# 4) Apply helper and dedupe\n",
    "df['ensembl_id'] = df['ensembl'].apply(extract_ensembl)\n",
    "ensembl_ids     = set(df['ensembl_id'].dropna())\n",
    "\n",
    "\n",
    "# ─── Cell 4: Load BED & Filter by Ensembl IDs ─────────────────────────────\n",
    "# Define column names for the BED file (12-column UCSC-style)\n",
    "bed_cols = [\n",
    "    'chr','start','end','gene_id','score','strand',\n",
    "    'thickStart','thickEnd','itemRgb','blockCount',\n",
    "    'blockSizes','blockStarts'\n",
    "]\n",
    "\n",
    "# Read the BED into a DataFrame\n",
    "bed = pd.read_csv(\n",
    "    BED_FILE,\n",
    "    sep='\\t',\n",
    "    header=None,\n",
    "    names=bed_cols\n",
    ")\n",
    "\n",
    "# Keep only rows whose gene_id column is in our set of Ensembl IDs\n",
    "filtered_bed = bed[bed['gene_id'].isin(ensembl_ids)]\n",
    "\n",
    "\n",
    "# ─── Cell 5: Write Filtered BED ───────────────────────────────────────────\n",
    "# Save filtered entries as a standard BED (no header, no index)\n",
    "filtered_bed.to_csv(\n",
    "    OUTPUT_FILE,\n",
    "    sep='\\t',\n",
    "    header=False,\n",
    "    index=False\n",
    ")\n",
    "\n",
    "print(f\"Done! Filtered BED written to: {OUTPUT_FILE}\")\n"
   ]
  }
 ],
 "metadata": {
  "kernelspec": {
   "display_name": "chip_seq",
   "language": "python",
   "name": "python3"
  },
  "language_info": {
   "codemirror_mode": {
    "name": "ipython",
    "version": 3
   },
   "file_extension": ".py",
   "mimetype": "text/x-python",
   "name": "python",
   "nbconvert_exporter": "python",
   "pygments_lexer": "ipython3",
   "version": "3.12.11"
  }
 },
 "nbformat": 4,
 "nbformat_minor": 2
}
