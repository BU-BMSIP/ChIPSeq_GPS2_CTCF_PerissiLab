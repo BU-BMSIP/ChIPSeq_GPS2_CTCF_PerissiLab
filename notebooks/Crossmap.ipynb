{
 "cells": [
  {
   "cell_type": "code",
   "execution_count": 4,
   "metadata": {},
   "outputs": [
    {
     "name": "stdout",
     "output_type": "stream",
     "text": [
      "Installing CrossMap via Bioconda...\n",
      "\n",
      "Looking for: ['crossmap']\n",
      "\n",
      "bioconda/linux-64                                           Using cache\n",
      "bioconda/noarch                                             Using cache\n",
      "conda-forge/linux-64                                        Using cache\n",
      "conda-forge/noarch                                          Using cache\n",
      "\n",
      "Pinned packages:\n",
      "  - python 3.12.*\n",
      "\n",
      "\n",
      "Transaction\n",
      "\n",
      "  Prefix: /projectnb/perissilab/Xinyu/.conda/envs/chip_seq\n",
      "\n",
      "  All requested packages already installed\n",
      "\n"
     ]
    },
    {
     "name": "stderr",
     "output_type": "stream",
     "text": [
      "2025-06-23 01:00:59 [INFO]  Read the chain file \"/projectnb/perissilab/Xinyu/GPS2_CHIPseq/ATF4_3T3L1/mm10ToMm39.over.chain.gz\" \n"
     ]
    },
    {
     "name": "stdout",
     "output_type": "stream",
     "text": [
      "\n",
      " Conversion complete. Preview of converted narrowPeak (mm39):\n",
      "chr1\t4627401\t4627805\tATF4_peak_1\t23\t.\t2.08461\t2.33347\t0.00000\t72\n",
      "chr1\t4831832\t4832078\tATF4_peak_2\t16\t.\t1.73227\t1.61411\t0.00000\t105\n",
      "chr1\t4878119\t4878753\tATF4_peak_3\t28\t.\t2.16683\t2.80128\t0.00000\t69\n",
      "chr1\t4928006\t4928749\tATF4_peak_4\t61\t.\t3.41117\t6.19460\t1.86851\t191\n",
      "chr1\t5071153\t5071412\tATF4_peak_5\t19\t.\t1.89510\t1.90397\t0.00000\t11\n"
     ]
    }
   ],
   "source": [
    "# Convert mm10 narrowPeak to mm39 using CrossMap\n",
    "\n",
    "import os\n",
    "import subprocess\n",
    "\n",
    "# === Step 1: Define paths ===\n",
    "input_narrowpeak = \"/projectnb/perissilab/Xinyu/GPS2_CHIPseq/ATF4_3T3L1/ATF4_d6_basal_mm10.narrowpeak\"\n",
    "output_converted = \"/projectnb/perissilab/Xinyu/GPS2_CHIPseq/ATF4_3T3L1/ATF4_d6_basal_mm39.narrowpeak\"\n",
    "chain_file = \"/projectnb/perissilab/Xinyu/GPS2_CHIPseq/ATF4_3T3L1/mm10ToMm39.over.chain.gz\"\n",
    "\n",
    "# === Step 2: Install CrossMap via conda (if needed) ===\n",
    "print(\"Installing CrossMap via Bioconda...\")\n",
    "\n",
    "try:\n",
    "    subprocess.run(\"mamba install -y -c bioconda crossmap\", shell=True, check=True)\n",
    "except:\n",
    "    subprocess.run(\"conda install -y -c bioconda crossmap\", shell=True, check=True)\n",
    "\n",
    "# === Step 3: Run CrossMap ===\n",
    "crossmap_bin = \"/projectnb/perissilab/Xinyu/.conda/envs/chip_seq/bin/CrossMap\"\n",
    "\n",
    "subprocess.run([\n",
    "    crossmap_bin, \"bed\", chain_file, input_narrowpeak, output_converted\n",
    "], check=True)\n",
    "\n",
    "# === Step 4: Preview output ===\n",
    "print(\"\\n Conversion complete. Preview of converted narrowPeak (mm39):\")\n",
    "!head -n 5 /projectnb/perissilab/Xinyu/GPS2_CHIPseq/ATF4_3T3L1/ATF4_d6_basal_mm39.narrowpeak\n"
   ]
  }
 ],
 "metadata": {
  "kernelspec": {
   "display_name": "chip_seq",
   "language": "python",
   "name": "python3"
  },
  "language_info": {
   "codemirror_mode": {
    "name": "ipython",
    "version": 3
   },
   "file_extension": ".py",
   "mimetype": "text/x-python",
   "name": "python",
   "nbconvert_exporter": "python",
   "pygments_lexer": "ipython3",
   "version": "3.12.11"
  }
 },
 "nbformat": 4,
 "nbformat_minor": 2
}
