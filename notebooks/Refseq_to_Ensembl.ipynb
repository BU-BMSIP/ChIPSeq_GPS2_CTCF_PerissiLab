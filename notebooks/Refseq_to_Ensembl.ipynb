{
 "cells": [
  {
   "cell_type": "code",
   "execution_count": 1,
   "metadata": {},
   "outputs": [
    {
     "name": "stdout",
     "output_type": "stream",
     "text": [
      "Done! Saved as mm39_ensembl.bed\n"
     ]
    }
   ],
   "source": [
    "# ---\n",
    "# title: Replace RefSeq IDs with Ensembl Gene IDs in BED file\n",
    "# ---\n",
    "\n",
    "import pandas as pd\n",
    "\n",
    "# Step 1: Load your BED file\n",
    "bed = pd.read_csv(\"/projectnb/perissilab/Xinyu/GPS2_CHIPseq/mm39.bed\", sep=\"\\t\", header=None)\n",
    "\n",
    "# Step 2: Load mouse_gene2ensembl file\n",
    "# 有7列: tax_id, GeneID, EnsemblGene, RefSeq, EnsemblTranscript, RefSeqProtein, EnsemblProtein\n",
    "mapping = pd.read_csv(\"/projectnb/perissilab/Xinyu/GPS2_CHIPseq/Adapters_and_Annotations/mouse_gene2ensembl.tsv\", sep=\"\\t\", header=None, \n",
    "                      names=[\"tax_id\", \"GeneID\", \"EnsemblGene\", \"RefSeq\", \n",
    "                             \"EnsemblTranscript\", \"RefSeqProtein\", \"EnsemblProtein\"])\n",
    "\n",
    "# Step 3: Remove version numbers to ensure matching\n",
    "mapping[\"RefSeq\"] = mapping[\"RefSeq\"].str.replace(r\"\\.\\d+$\", \"\", regex=True)\n",
    "bed[3] = bed[3].str.replace(r\"\\.\\d+$\", \"\", regex=True)\n",
    "\n",
    "# Step 4: Build mapping and replace RefSeq ID with Ensembl Gene ID\n",
    "refseq_to_ensg = dict(zip(mapping[\"RefSeq\"], mapping[\"EnsemblGene\"]))\n",
    "bed[3] = bed[3].map(lambda x: refseq_to_ensg.get(x, x))  # 保留原始值如果没有匹配上\n",
    "\n",
    "# Step 5: Save the new BED file\n",
    "bed.to_csv(\"/projectnb/perissilab/Xinyu/GPS2_CHIPseq/mm39_ensembl.bed\", sep=\"\\t\", header=False, index=False)\n",
    "print(\"Done! Saved as mm39_ensembl.bed\")\n"
   ]
  }
 ],
 "metadata": {
  "kernelspec": {
   "display_name": "chip_seq",
   "language": "python",
   "name": "python3"
  },
  "language_info": {
   "codemirror_mode": {
    "name": "ipython",
    "version": 3
   },
   "file_extension": ".py",
   "mimetype": "text/x-python",
   "name": "python",
   "nbconvert_exporter": "python",
   "pygments_lexer": "ipython3",
   "version": "3.12.11"
  }
 },
 "nbformat": 4,
 "nbformat_minor": 2
}
