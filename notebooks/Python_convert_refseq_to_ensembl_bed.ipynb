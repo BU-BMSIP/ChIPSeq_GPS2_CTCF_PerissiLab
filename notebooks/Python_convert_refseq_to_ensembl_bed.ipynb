{
 "cells": [
  {
   "cell_type": "markdown",
   "metadata": {},
   "source": [
    "# Convert RefSeq IDs to Ensembl Gene IDs in a BED File\n",
    "\n",
    "This notebook:\n",
    "1. Loads a BED file whose 4th column contains RefSeq transcript IDs.  \n",
    "2. Loads the NCBI `mouse_gene2ensembl` mapping file.  \n",
    "3. Strips version suffixes (e.g. “.1”) from RefSeq IDs in both datasets.  \n",
    "4. Builds a dictionary that maps RefSeq → Ensembl Gene ID.  \n",
    "5. Replaces each RefSeq in the BED with its corresponding Ensembl Gene ID (fallback to original if no match).  \n",
    "6. Writes out a new BED file with Ensembl IDs in column 4.\n"
   ]
  },
  {
   "cell_type": "code",
   "execution_count": 1,
   "metadata": {},
   "outputs": [
    {
     "name": "stdout",
     "output_type": "stream",
     "text": [
      "Done! Saved as mm39_ensembl.bed\n"
     ]
    }
   ],
   "source": [
    "# ─── Cell 1: Imports ────────────────────────────────────────────────────────\n",
    "import pandas as pd\n",
    "\n",
    "\n",
    "# ─── Cell 2: Load the BED file with RefSeq IDs in column 4 ─────────────────\n",
    "# The BED must have at least 4 columns; column index 3 (0-based) holds RefSeq IDs.\n",
    "bed = pd.read_csv(\n",
    "    \"/projectnb/perissilab/Xinyu/GPS2_CHIPseq/mm39.bed\",\n",
    "    sep=\"\\t\",\n",
    "    header=None\n",
    ")\n",
    "\n",
    "# ─── Cell 3: Load the mouse_gene2ensembl mapping TSV ───────────────────────\n",
    "# Columns: tax_id, GeneID, EnsemblGene, RefSeq, EnsemblTranscript, RefSeqProtein, EnsemblProtein\n",
    "mapping = pd.read_csv(\n",
    "    \"/projectnb/perissilab/Xinyu/GPS2_CHIPseq/Adapters_and_Annotations/mouse_gene2ensembl.tsv\",\n",
    "    sep=\"\\t\",\n",
    "    header=None,\n",
    "    names=[\n",
    "        \"tax_id\", \"GeneID\", \"EnsemblGene\", \"RefSeq\",\n",
    "        \"EnsemblTranscript\", \"RefSeqProtein\", \"EnsemblProtein\"\n",
    "    ]\n",
    ")\n",
    "\n",
    "\n",
    "# ─── Cell 4: Strip version suffixes (“.N”) to match IDs reliably ──────────\n",
    "# e.g. convert “NM_001234.2” → “NM_001234”\n",
    "mapping[\"RefSeq\"] = mapping[\"RefSeq\"].str.replace(r\"\\.\\d+$\", \"\", regex=True)\n",
    "bed[3]           = bed[3].str.replace(r\"\\.\\d+$\", \"\", regex=True)\n",
    "\n",
    "\n",
    "# ─── Cell 5: Build a RefSeq→EnsemblGene dictionary and apply mapping ──────\n",
    "refseq_to_ensg = dict(zip(mapping[\"RefSeq\"], mapping[\"EnsemblGene\"]))\n",
    "# Map each RefSeq in column 3 to its EnsemblGene (leave unchanged if not found)\n",
    "bed[3] = bed[3].map(lambda x: refseq_to_ensg.get(x, x))\n",
    "\n",
    "# ─── Cell 6: Save the new BED file with Ensembl IDs in column 4 ──────────\n",
    "bed.to_csv(\n",
    "    \"/projectnb/perissilab/Xinyu/GPS2_CHIPseq/mm39_ensembl.bed\",\n",
    "    sep=\"\\t\",\n",
    "    header=False,\n",
    "    index=False\n",
    ")\n",
    "print(\"Done! Saved as mm39_ensembl.bed\")\n",
    "\n"
   ]
  }
 ],
 "metadata": {
  "kernelspec": {
   "display_name": "chip_seq",
   "language": "python",
   "name": "python3"
  },
  "language_info": {
   "codemirror_mode": {
    "name": "ipython",
    "version": 3
   },
   "file_extension": ".py",
   "mimetype": "text/x-python",
   "name": "python",
   "nbconvert_exporter": "python",
   "pygments_lexer": "ipython3",
   "version": "3.12.11"
  }
 },
 "nbformat": 4,
 "nbformat_minor": 2
}
