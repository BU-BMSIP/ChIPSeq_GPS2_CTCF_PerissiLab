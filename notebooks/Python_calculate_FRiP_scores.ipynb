{
 "cells": [
  {
   "cell_type": "markdown",
   "metadata": {},
   "source": [
    "# Calculate FRiP Scores for CTCF ChIP-seq Samples\n",
    "\n",
    "This notebook loops over CTCF BAM replicates, uses **pysam** to count total vs. mapped reads,  \n",
    "previews a few alignments, then uses **pybedtools** to count reads in MACS3 peaks and compute FRiP  \n",
    "(Fraction of Reads in Peaks). Finally it collects everything into a **pandas** DataFrame.\n"
   ]
  },
  {
   "cell_type": "code",
   "execution_count": 5,
   "metadata": {},
   "outputs": [
    {
     "name": "stdout",
     "output_type": "stream",
     "text": [
      "\n",
      "======== t1 ========\n",
      "None:-1-None flag=4\n",
      "None:-1-None flag=4\n",
      "None:-1-None flag=4\n",
      "Total: 1493896, Mapped: 1301721 (0.8714)\n",
      "Peaks preview: ['GL456210.1:62013-62169', 'GL456210.1:98091-98436', 'GL456211.1:20013-20272']\n",
      "Total peaks: 35467\n"
     ]
    },
    {
     "name": "stderr",
     "output_type": "stream",
     "text": [
      "***** WARNING: File /projectnb/perissilab/Xinyu/GPS2_CHIPseq/CTCF_3T3L1/results/macs3/CTCF_t1_peaks.narrowPeak has inconsistent naming convention for record:\n",
      "chr1\t3051706\t3052078\tCTCF_t1_peak_278\t378\t.\t18.7645\t42.043\t37.8865\t189\n",
      "\n",
      "***** WARNING: File /projectnb/perissilab/Xinyu/GPS2_CHIPseq/CTCF_3T3L1/results/macs3/CTCF_t1_peaks.narrowPeak has inconsistent naming convention for record:\n",
      "chr1\t3051706\t3052078\tCTCF_t1_peak_278\t378\t.\t18.7645\t42.043\t37.8865\t189\n",
      "\n"
     ]
    },
    {
     "name": "stdout",
     "output_type": "stream",
     "text": [
      "\n",
      "======== t2 ========\n",
      "chr10:83447661-83447697 flag=0\n",
      "chr11:91412886-91412922 flag=16\n",
      "chr2:98497461-98497497 flag=0\n",
      "Total: 1549987, Mapped: 1447573 (0.9339)\n",
      "Peaks preview: ['GL456210.1:98075-98486', 'GL456210.1:113627-113777', 'GL456211.1:20056-20314']\n",
      "Total peaks: 30523\n"
     ]
    },
    {
     "name": "stderr",
     "output_type": "stream",
     "text": [
      "***** WARNING: File /projectnb/perissilab/Xinyu/GPS2_CHIPseq/CTCF_3T3L1/results/macs3/CTCF_t2_peaks.narrowPeak has inconsistent naming convention for record:\n",
      "chr1\t3051712\t3052051\tCTCF_t2_peak_280\t494\t.\t23.3162\t53.7552\t49.4141\t171\n",
      "\n",
      "***** WARNING: File /projectnb/perissilab/Xinyu/GPS2_CHIPseq/CTCF_3T3L1/results/macs3/CTCF_t2_peaks.narrowPeak has inconsistent naming convention for record:\n",
      "chr1\t3051712\t3052051\tCTCF_t2_peak_280\t494\t.\t23.3162\t53.7552\t49.4141\t171\n",
      "\n"
     ]
    },
    {
     "name": "stdout",
     "output_type": "stream",
     "text": [
      "\n",
      "======== t3 ========\n",
      "chr2:98494272-98494308 flag=16\n",
      "chr6:58748000-58748036 flag=16\n",
      "None:-1-None flag=4\n",
      "Total: 2029952, Mapped: 1837371 (0.9051)\n",
      "Peaks preview: ['GL456210.1:98101-98347', 'GL456211.1:20047-20287', 'GL456211.1:141219-141426']\n",
      "Total peaks: 46220\n"
     ]
    },
    {
     "name": "stderr",
     "output_type": "stream",
     "text": [
      "***** WARNING: File /projectnb/perissilab/Xinyu/GPS2_CHIPseq/CTCF_3T3L1/results/macs3/CTCF_t3_peaks.narrowPeak has inconsistent naming convention for record:\n",
      "chr1\t3051809\t3052057\tCTCF_t3_peak_282\t648\t.\t28.8559\t68.9452\t64.8027\t124\n",
      "\n",
      "***** WARNING: File /projectnb/perissilab/Xinyu/GPS2_CHIPseq/CTCF_3T3L1/results/macs3/CTCF_t3_peaks.narrowPeak has inconsistent naming convention for record:\n",
      "chr1\t3051809\t3052057\tCTCF_t3_peak_282\t648\t.\t28.8559\t68.9452\t64.8027\t124\n",
      "\n"
     ]
    },
    {
     "name": "stdout",
     "output_type": "stream",
     "text": [
      "\n",
      "======== t4 ========\n",
      "chr15:12371439-12371475 flag=16\n",
      "None:-1-None flag=4\n",
      "None:-1-None flag=4\n",
      "Total: 845766, Mapped: 740310 (0.8753)\n",
      "Peaks preview: ['GL456210.1:98098-98340', 'GL456211.1:20043-20303', 'GL456211.1:147822-148074']\n",
      "Total peaks: 25225\n"
     ]
    },
    {
     "name": "stderr",
     "output_type": "stream",
     "text": [
      "***** WARNING: File /projectnb/perissilab/Xinyu/GPS2_CHIPseq/CTCF_3T3L1/results/macs3/CTCF_t4_peaks.narrowPeak has inconsistent naming convention for record:\n",
      "chr1\t3051777\t3052031\tCTCF_t4_peak_222\t300\t.\t14.5138\t34.2543\t30.078\t135\n",
      "\n",
      "***** WARNING: File /projectnb/perissilab/Xinyu/GPS2_CHIPseq/CTCF_3T3L1/results/macs3/CTCF_t4_peaks.narrowPeak has inconsistent naming convention for record:\n",
      "chr1\t3051777\t3052031\tCTCF_t4_peak_222\t300\t.\t14.5138\t34.2543\t30.078\t135\n",
      "\n"
     ]
    },
    {
     "name": "stdout",
     "output_type": "stream",
     "text": [
      "\n",
      "==== Summary Table ====\n",
      "Sample  Total Reads  Mapped Reads  Reads in Peaks  Mapping Rate   FRiP\n",
      "    t1      1493896       1301721          466873        0.8714 0.3587\n",
      "    t2      1549987       1447573          435556        0.9339 0.3009\n",
      "    t3      2029952       1837371          744686        0.9051 0.4053\n",
      "    t4       845766        740310          266471        0.8753 0.3599\n"
     ]
    }
   ],
   "source": [
    "#!/usr/bin/env python3\n",
    "# ─── Cell 1: Imports ───────────────────────────────────────────────────\n",
    "# - pysam: read & iterate BAM alignments\n",
    "# - pybedtools: load peaks and intersect with reads\n",
    "# - pandas: build summary table\n",
    "import pysam\n",
    "import pybedtools\n",
    "import pandas as pd\n",
    "\n",
    "\n",
    "# ─── Cell 2: Sample & Path Configuration ────────────────────────────────\n",
    "samples = [\"t1\", \"t2\", \"t3\", \"t4\"]\n",
    "\n",
    "# Directory containing CTCF BAM files named CTCF_t1.bam, etc.\n",
    "bam_dir  = \"/projectnb/perissilab/Xinyu/GPS2_CHIPseq/CTCF_3T3L1/results/aligned/\"\n",
    "\n",
    "# Directory containing MACS3 peak calls named CTCF_t1_peaks.narrowPeak, etc.\n",
    "peak_dir = \"/projectnb/perissilab/Xinyu/GPS2_CHIPseq/CTCF_3T3L1/results/macs3/\"\n",
    "\n",
    "\n",
    "# ─── Cell 3: Prepare Results Container ─────────────────────────────────\n",
    "results = []  # will hold a dict per sample\n",
    "\n",
    "\n",
    "# ─── Cell 4: Loop over samples ─────────────────────────────────────────\n",
    "for s in samples:\n",
    "    bam_file  = f\"{bam_dir}CTCF_{s}.bam\"\n",
    "    peak_file = f\"{peak_dir}CTCF_{s}_peaks.narrowPeak\"\n",
    "    \n",
    "    print(f\"\\n======== Sample {s} ========\")\n",
    "    \n",
    "    # 1) Summarize BAM: total vs. mapped reads, plus a few read examples\n",
    "    bam = pysam.AlignmentFile(bam_file, \"rb\")\n",
    "    total_reads  = 0\n",
    "    mapped_reads = 0\n",
    "    for read in bam.fetch(until_eof=True):\n",
    "        total_reads += 1\n",
    "        if not read.is_unmapped:\n",
    "            mapped_reads += 1\n",
    "        if total_reads <= 3:\n",
    "            # preview first 3 alignments\n",
    "            print(f\"{read.reference_name}:{read.reference_start}-{read.reference_end} flag={read.flag}\")\n",
    "    bam.close()\n",
    "    print(f\"Total reads: {total_reads}, Mapped: {mapped_reads} ({mapped_reads/total_reads:.4f})\")\n",
    "    \n",
    "    # 2) Summarize peaks\n",
    "    peaks = pybedtools.BedTool(peak_file)\n",
    "    preview = [f\"{p.chrom}:{p.start}-{p.end}\" for i,p in enumerate(peaks) if i<3]\n",
    "    print(f\"Peaks preview: {preview}\")\n",
    "    total_peaks = len(peaks)\n",
    "    print(f\"Total peaks: {total_peaks}\")\n",
    "    \n",
    "    # 3) Compute FRiP: number of reads overlapping any peak / mapped_reads\n",
    "    bam_bed        = pybedtools.BedTool(bam_file)\n",
    "    reads_in_peaks = bam_bed.intersect(peaks, u=True).count()\n",
    "    frip           = reads_in_peaks / mapped_reads if mapped_reads > 0 else 0\n",
    "    \n",
    "    # 4) Append metrics\n",
    "    results.append({\n",
    "        \"Sample\":       s,\n",
    "        \"Total Reads\":  total_reads,\n",
    "        \"Mapped Reads\": mapped_reads,\n",
    "        \"Reads in Peaks\": reads_in_peaks,\n",
    "        \"Mapping Rate\": round(mapped_reads/total_reads, 4),\n",
    "        \"FRiP\":         round(frip, 4)\n",
    "    })\n",
    "\n",
    "\n",
    "# ─── Cell 5: Build & Print Summary Table ────────────────────────────────\n",
    "df = pd.DataFrame(results)\n",
    "print(\"\\n==== Summary Table ====\")\n",
    "print(df.to_string(index=False))\n"
   ]
  }
 ],
 "metadata": {
  "kernelspec": {
   "display_name": "chip_seq",
   "language": "python",
   "name": "python3"
  },
  "language_info": {
   "codemirror_mode": {
    "name": "ipython",
    "version": 3
   },
   "file_extension": ".py",
   "mimetype": "text/x-python",
   "name": "python",
   "nbconvert_exporter": "python",
   "pygments_lexer": "ipython3",
   "version": "3.12.11"
  }
 },
 "nbformat": 4,
 "nbformat_minor": 2
}
