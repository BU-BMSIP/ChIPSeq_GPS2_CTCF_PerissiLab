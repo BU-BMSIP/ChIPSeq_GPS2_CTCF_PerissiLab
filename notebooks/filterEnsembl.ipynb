{
 "cells": [
  {
   "cell_type": "code",
   "execution_count": null,
   "metadata": {},
   "outputs": [],
   "source": []
  },
  {
   "cell_type": "code",
   "execution_count": 1,
   "metadata": {},
   "outputs": [
    {
     "name": "stderr",
     "output_type": "stream",
     "text": [
      "Input sequence provided is already in string format. No operation performed\n",
      "Input sequence provided is already in string format. No operation performed\n",
      "153 input query terms found dup hits:\t[('Gm26901', 2), ('Gm33222', 2), ('Gm6644', 2), ('Gm29083', 2), ('2900060B14Rik', 2), ('2610027F03Ri\n",
      "14 input query terms found no hit:\t['Bves', 'Fut11', 'LOC118567337', '2310039H08Rik', 'LOC102631992', 'Gm50217', 'Tmem88b', 'Sagsin1', \n"
     ]
    },
    {
     "name": "stdout",
     "output_type": "stream",
     "text": [
      "✅ Done! Filtered BED written to: /projectnb/perissilab/Xinyu/GPS2_CHIPseq/CTCF_3T3L1/results/annotation/GPS2_CTCF_common_genes_filtered.bed\n"
     ]
    }
   ],
   "source": [
    "from mygene import MyGeneInfo\n",
    "import pandas as pd\n",
    "\n",
    "# -----------------------------\n",
    "# 配置文件路径\n",
    "GENELIST_FILE = \"/projectnb/perissilab/Xinyu/GPS2_CHIPseq/CTCF_3T3L1/results/annotation/GPS2_CTCF_common_genes.txt\"\n",
    "BED_FILE = \"/projectnb/perissilab/Xinyu/GPS2_CHIPseq/mm39_ensembl.bed\"\n",
    "OUTPUT_FILE = \"/projectnb/perissilab/Xinyu/GPS2_CHIPseq/CTCF_3T3L1/results/annotation/GPS2_CTCF_common_genes_filtered.bed\"\n",
    "# -----------------------------\n",
    "\n",
    "# 1. 读取gene list\n",
    "genes = pd.read_csv(GENELIST_FILE, header=None)[0].tolist()\n",
    "\n",
    "# 2. 用mygene转换为Ensembl ID\n",
    "mg = MyGeneInfo()\n",
    "results = mg.querymany(genes, scopes='symbol', fields='ensembl.gene', species='mouse')\n",
    "\n",
    "# 整理结果\n",
    "df = pd.DataFrame(results)\n",
    "df = df[df['notfound'] != True][['query','ensembl']]\n",
    "\n",
    "def extract_ensembl(x):\n",
    "    if isinstance(x, dict):\n",
    "        return x.get('gene')\n",
    "    elif isinstance(x, list):\n",
    "        return x[0].get('gene')\n",
    "    return None\n",
    "\n",
    "df['ensembl_id'] = df['ensembl'].apply(extract_ensembl)\n",
    "ensembl_ids = set(df['ensembl_id'].dropna())\n",
    "\n",
    "# 3. 读取BED文件，过滤\n",
    "bed_cols = ['chr','start','end','gene_id','score','strand','thickStart','thickEnd','itemRgb','blockCount','blockSizes','blockStarts']\n",
    "bed = pd.read_csv(BED_FILE, sep='\\t', header=None, names=bed_cols)\n",
    "\n",
    "filtered_bed = bed[bed['gene_id'].isin(ensembl_ids)]\n",
    "\n",
    "# 4. 保存结果\n",
    "filtered_bed.to_csv(OUTPUT_FILE, sep='\\t', header=False, index=False)\n",
    "\n",
    "print(f\"✅ Done! Filtered BED written to: {OUTPUT_FILE}\")\n"
   ]
  }
 ],
 "metadata": {
  "kernelspec": {
   "display_name": "chip_seq",
   "language": "python",
   "name": "python3"
  },
  "language_info": {
   "codemirror_mode": {
    "name": "ipython",
    "version": 3
   },
   "file_extension": ".py",
   "mimetype": "text/x-python",
   "name": "python",
   "nbconvert_exporter": "python",
   "pygments_lexer": "ipython3",
   "version": "3.12.11"
  }
 },
 "nbformat": 4,
 "nbformat_minor": 2
}
