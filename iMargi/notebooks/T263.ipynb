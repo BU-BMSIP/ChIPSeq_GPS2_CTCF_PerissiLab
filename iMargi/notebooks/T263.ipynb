{
 "cells": [
  {
   "cell_type": "code",
   "execution_count": 1,
   "metadata": {},
   "outputs": [
    {
     "name": "stdout",
     "output_type": "stream",
     "text": [
      "chr1\t121186505\t121186905\n",
      "chr6\t58886177\t58886577\n",
      "chr7\t61606407\t61606807\n",
      "chr18\t98102\t98502\n",
      "chr17\t38756264\t38756664\n"
     ]
    }
   ],
   "source": [
    "# ─────────────────────────────────────────────────────────────────────────────\n",
    "# Notebook: T263.ipynb\n",
    "# Purpose:\n",
    "#   Cell 1) Preview the first few lines of a compressed NCOR/GPS2 peaks file (.peaks.txt.gz).\n",
    "#   Cell 2) Convert a .peaks.txt.gz file into a BED with only chr/start/end.\n",
    "#   Cell 3) Load an hg38 BED of peaks with pybedtools and print the region count.\n",
    "#   Cell 4) Extract mtRNA-associated DNA‐end sites from iMARGI .pairs.gz, merge nearby sites (±250 bp), and save per-sample BEDs.\n",
    "\n",
    "# This previews the first few lines of a compressed NCOR peaks file (.peaks.txt.gz).\n",
    "\n",
    "import pandas as pd\n",
    "import gzip\n",
    "\n",
    "# Path to the peaks file (change as needed)\n",
    "# peaks_file = \"/projectnb/perissilab/Xinyu/GPS2_CHIPseq/iMargi/T263/Peak file/GSM865745_NCOR_siGPS2.peaks.txt.gz\"\n",
    "#peaks_file = '/projectnb/perissilab/Xinyu/GPS2_CHIPseq/iMargi/T263/Peak_file/GSM865744_NCOR_siCTL.peaks.txt.gz'\n",
    "peaks_file = '/projectnb/perissilab/Xinyu/GPS2_CHIPseq/iMargi/T263/Peak_file/GSM865742_GPS2_minusTNFA.peaks.txt.gz'\n",
    "# Decompress and print the first 5 lines\n",
    "with gzip.open(peaks_file, \"rt\") as f:\n",
    "    for i in range(5):\n",
    "        print(f.readline().strip())\n"
   ]
  },
  {
   "cell_type": "code",
   "execution_count": 4,
   "metadata": {},
   "outputs": [
    {
     "name": "stdout",
     "output_type": "stream",
     "text": [
      "BED file saved: GPS2_minusTNFA_hg18.bed\n"
     ]
    }
   ],
   "source": [
    "# This script converts a compressed NCOR peaks file (.peaks.txt.gz) \n",
    "# into a BED file containing only the first three columns (chr, start, end).\n",
    "\n",
    "import gzip\n",
    "\n",
    "# peaks_bed = \"NCOR_siGPS2_hg18.bed\"\n",
    "# peaks_bed = \"NCOR_siCTL_hg18.bed\"\n",
    "peaks_bed = \"GPS2_minusTNFA_hg18.bed\"\n",
    "\n",
    "with gzip.open(peaks_file, \"rt\") as f, open(peaks_bed, \"w\") as out:\n",
    "    for line in f:\n",
    "        # Skip header or empty lines\n",
    "        if line.startswith(\"#\") or not line.strip():\n",
    "            continue\n",
    "        cols = line.strip().split()\n",
    "        # Write chr, start, end as BED\n",
    "        out.write(\"\\t\".join(cols[:3]) + \"\\n\")\n",
    "\n",
    "print(f\"BED file saved: {peaks_bed}\")\n"
   ]
  },
  {
   "cell_type": "code",
   "execution_count": 6,
   "metadata": {},
   "outputs": [
    {
     "name": "stdout",
     "output_type": "stream",
     "text": [
      "loaded peaks, number of regions: 33437\n"
     ]
    }
   ],
   "source": [
    "# This script loads an NCOR/GPS2 peaks BED file (hg38) using pybedtools and \n",
    "# prints the total number of peak regions.\n",
    "\n",
    "import pybedtools\n",
    "\n",
    "# peaks_bed_hg38 = pybedtools.BedTool(\"/projectnb/perissilab/Xinyu/GPS2_CHIPseq/iMargi/T263/Peak file/NCOR_siGPS2_hg38.bed\")\n",
    "# peaks_bed_hg38 = pybedtools.BedTool(\"/projectnb/perissilab/Xinyu/GPS2_CHIPseq/iMargi/T263/Peak_file/NCOR_siCTL_hg38.bed\")\n",
    "peaks_bed_hg38 = pybedtools.BedTool(\"/projectnb/perissilab/Xinyu/GPS2_CHIPseq/iMargi/T263/Peak_file/GPS2_minusTNFA_hg38.bed\")\n",
    "print(f\"loaded peaks, number of regions: {len(peaks_bed_hg38)}\")\n",
    "\n"
   ]
  },
  {
   "cell_type": "code",
   "execution_count": 3,
   "metadata": {},
   "outputs": [
    {
     "name": "stdout",
     "output_type": "stream",
     "text": [
      "Day0: Successfully generated /projectnb/perissilab/Xinyu/GPS2_CHIPseq/iMargi/analysis/mtRNA_DNA_sites_Day0.bed, number of regions: 294752\n",
      "Day3: Successfully generated /projectnb/perissilab/Xinyu/GPS2_CHIPseq/iMargi/analysis/mtRNA_DNA_sites_Day3.bed, number of regions: 380812\n",
      "Day7: Successfully generated /projectnb/perissilab/Xinyu/GPS2_CHIPseq/iMargi/analysis/mtRNA_DNA_sites_Day7.bed, number of regions: 368771\n"
     ]
    }
   ],
   "source": [
    "#Extract and merge mtRNA-associated DNA-end sites from iMARGI\n",
    "import gzip\n",
    "import pybedtools\n",
    "import os\n",
    "\n",
    "# iMARGI .pairs.gz files for each timepoint\n",
    "pairs_files = {\n",
    "    \"Day0\": \"/projectnb/perissilab/Xinyu/GPS2_CHIPseq/iMargi/output/final_SRR9900120.pairs.gz\",\n",
    "    \"Day3\": \"/projectnb/perissilab/Xinyu/GPS2_CHIPseq/iMargi/output/final_SRR9900121.pairs.gz\",\n",
    "    \"Day7\": \"/projectnb/perissilab/Xinyu/GPS2_CHIPseq/iMargi/output/final_SRR9900122.pairs.gz\"\n",
    "}\n",
    "\n",
    "# Directory to save merged BEDs\n",
    "outdir = \"/projectnb/perissilab/Xinyu/GPS2_CHIPseq/iMargi/analysis\"\n",
    "os.makedirs(outdir, exist_ok=True)\n",
    "\n",
    "for name, pairs_file in pairs_files.items():\n",
    "    dna_sites = []\n",
    "    # Read each line of the compressed .pairs.gz\n",
    "    with gzip.open(pairs_file, \"rt\") as f:\n",
    "        for line in f:\n",
    "            if line.startswith(\"#\"):\n",
    "                continue  # skip headers\n",
    "            cols = line.strip().split(\"\\t\")\n",
    "            rna_chr = cols[1]             # RNA-end chromosome\n",
    "            dna_chr = cols[3]             # DNA-end chromosome\n",
    "            dna_pos = int(cols[4])        # DNA-end position\n",
    "            # Keep only mitochondrial RNA-end pairs\n",
    "            if rna_chr in [\"chrM\", \"chrMT\", \"MT\"]:\n",
    "                # Record as a 1-bp interval at the DNA-end\n",
    "                dna_sites.append([dna_chr, dna_pos, dna_pos + 1])\n",
    "\n",
    "    if not dna_sites:\n",
    "        print(f\"{name}: No mtRNA-binding read pairs found!\")\n",
    "        continue\n",
    "\n",
    "    # Merge intervals within ±250 bp (max gap=500)\n",
    "    dna_bed = pybedtools.BedTool(dna_sites).sort().merge(d=500)\n",
    "\n",
    "    # Save merged intervals as BED\n",
    "    outfile = os.path.join(outdir, f\"mtRNA_DNA_sites_{name}.bed\")\n",
    "    dna_bed.saveas(outfile)\n",
    "    print(f\"{name}: Generated {outfile}, regions = {len(dna_bed)}\")"
   ]
  }
 ],
 "metadata": {
  "kernelspec": {
   "display_name": "chip_seq",
   "language": "python",
   "name": "python3"
  },
  "language_info": {
   "codemirror_mode": {
    "name": "ipython",
    "version": 3
   },
   "file_extension": ".py",
   "mimetype": "text/x-python",
   "name": "python",
   "nbconvert_exporter": "python",
   "pygments_lexer": "ipython3",
   "version": "3.12.11"
  }
 },
 "nbformat": 4,
 "nbformat_minor": 2
}
